{
 "cells": [
  {
   "cell_type": "code",
   "execution_count": 1,
   "id": "b64c914c",
   "metadata": {},
   "outputs": [],
   "source": [
    "# Importing neccesory libraries\n",
    "import pymongo\n",
    "import json\n",
    "import warnings\n",
    "warnings.filterwarnings('ignore')\n",
    "from pymongo import MongoClient"
   ]
  },
  {
   "cell_type": "code",
   "execution_count": 2,
   "id": "5d596135",
   "metadata": {},
   "outputs": [],
   "source": [
    "# creation of object MongoClient  \n",
    "client=MongoClient()"
   ]
  },
  {
   "cell_type": "code",
   "execution_count": 3,
   "id": "6499c553",
   "metadata": {},
   "outputs": [],
   "source": [
    "# Connect with the portnumber and host  \n",
    "client = MongoClient('localhost',27017)"
   ]
  },
  {
   "cell_type": "code",
   "execution_count": 4,
   "id": "5d00a13c",
   "metadata": {},
   "outputs": [],
   "source": [
    "# Access database \n",
    "Database = client['Project_0']"
   ]
  },
  {
   "cell_type": "code",
   "execution_count": 5,
   "id": "ad29235c",
   "metadata": {},
   "outputs": [],
   "source": [
    "# Access collection of the database\n",
    "Weekly_Demand_Collection = Database.get_collection(\"meal_info\")\n"
   ]
  },
  {
   "cell_type": "code",
   "execution_count": 10,
   "id": "a81610da",
   "metadata": {},
   "outputs": [],
   "source": [
    "# Loading Json data in collections\n",
    "with open('E:\\\\projects\\\\meal_info.json') as file:\n",
    "    data = json.load(file)"
   ]
  },
  {
   "cell_type": "code",
   "execution_count": 11,
   "id": "1d30a043",
   "metadata": {},
   "outputs": [
    {
     "data": {
      "text/plain": [
       "[{'meal_id': 1885, 'category': 'Beverages', 'cuisine': 'Thai'},\n",
       " {'meal_id': 1993, 'category': 'Beverages', 'cuisine': 'Thai'},\n",
       " {'meal_id': 2539, 'category': 'Beverages', 'cuisine': 'Thai'},\n",
       " {'meal_id': 1248, 'category': 'Beverages', 'cuisine': 'Indian'},\n",
       " {'meal_id': 2631, 'category': 'Beverages', 'cuisine': 'Indian'},\n",
       " {'meal_id': 1311, 'category': 'Extras', 'cuisine': 'Thai'},\n",
       " {'meal_id': 1062, 'category': 'Beverages', 'cuisine': 'Italian'},\n",
       " {'meal_id': 1778, 'category': 'Beverages', 'cuisine': 'Italian'},\n",
       " {'meal_id': 1803, 'category': 'Extras', 'cuisine': 'Thai'},\n",
       " {'meal_id': 1198, 'category': 'Extras', 'cuisine': 'Thai'},\n",
       " {'meal_id': 2707, 'category': 'Beverages', 'cuisine': 'Italian'},\n",
       " {'meal_id': 1847, 'category': 'Soup', 'cuisine': 'Thai'},\n",
       " {'meal_id': 1438, 'category': 'Soup', 'cuisine': 'Thai'},\n",
       " {'meal_id': 2494, 'category': 'Soup', 'cuisine': 'Thai'},\n",
       " {'meal_id': 2760, 'category': 'Other Snacks', 'cuisine': 'Thai'},\n",
       " {'meal_id': 2490, 'category': 'Salad', 'cuisine': 'Italian'},\n",
       " {'meal_id': 1109, 'category': 'Rice Bowl', 'cuisine': 'Indian'},\n",
       " {'meal_id': 2290, 'category': 'Rice Bowl', 'cuisine': 'Indian'},\n",
       " {'meal_id': 1525, 'category': 'Other Snacks', 'cuisine': 'Thai'},\n",
       " {'meal_id': 2704, 'category': 'Other Snacks', 'cuisine': 'Thai'},\n",
       " {'meal_id': 1878, 'category': 'Starters', 'cuisine': 'Thai'},\n",
       " {'meal_id': 2640, 'category': 'Starters', 'cuisine': 'Thai'},\n",
       " {'meal_id': 2577, 'category': 'Starters', 'cuisine': 'Thai'},\n",
       " {'meal_id': 1754, 'category': 'Sandwich', 'cuisine': 'Italian'},\n",
       " {'meal_id': 1971, 'category': 'Sandwich', 'cuisine': 'Italian'},\n",
       " {'meal_id': 2306, 'category': 'Pasta', 'cuisine': 'Italian'},\n",
       " {'meal_id': 2139, 'category': 'Beverages', 'cuisine': 'Indian'},\n",
       " {'meal_id': 2826, 'category': 'Sandwich', 'cuisine': 'Italian'},\n",
       " {'meal_id': 2664, 'category': 'Salad', 'cuisine': 'Italian'},\n",
       " {'meal_id': 2569, 'category': 'Salad', 'cuisine': 'Italian'},\n",
       " {'meal_id': 1230, 'category': 'Beverages', 'cuisine': 'Continental'},\n",
       " {'meal_id': 1207, 'category': 'Beverages', 'cuisine': 'Continental'},\n",
       " {'meal_id': 2322, 'category': 'Beverages', 'cuisine': 'Continental'},\n",
       " {'meal_id': 2492, 'category': 'Desert', 'cuisine': 'Indian'},\n",
       " {'meal_id': 1216, 'category': 'Pasta', 'cuisine': 'Italian'},\n",
       " {'meal_id': 1727, 'category': 'Rice Bowl', 'cuisine': 'Indian'},\n",
       " {'meal_id': 1902, 'category': 'Biryani', 'cuisine': 'Indian'},\n",
       " {'meal_id': 1247, 'category': 'Biryani', 'cuisine': 'Indian'},\n",
       " {'meal_id': 2304, 'category': 'Desert', 'cuisine': 'Indian'},\n",
       " {'meal_id': 1543, 'category': 'Desert', 'cuisine': 'Indian'},\n",
       " {'meal_id': 1770, 'category': 'Biryani', 'cuisine': 'Indian'},\n",
       " {'meal_id': 2126, 'category': 'Pasta', 'cuisine': 'Italian'},\n",
       " {'meal_id': 1558, 'category': 'Pizza', 'cuisine': 'Continental'},\n",
       " {'meal_id': 2581, 'category': 'Pizza', 'cuisine': 'Continental'},\n",
       " {'meal_id': 1962, 'category': 'Pizza', 'cuisine': 'Continental'},\n",
       " {'meal_id': 1571, 'category': 'Fish', 'cuisine': 'Continental'},\n",
       " {'meal_id': 2956, 'category': 'Fish', 'cuisine': 'Continental'},\n",
       " {'meal_id': 2104, 'category': 'Fish', 'cuisine': 'Continental'},\n",
       " {'meal_id': 2444, 'category': 'Seafood', 'cuisine': 'Continental'},\n",
       " {'meal_id': 2867, 'category': 'Seafood', 'cuisine': 'Continental'},\n",
       " {'meal_id': 1445, 'category': 'Seafood', 'cuisine': 'Continental'}]"
      ]
     },
     "execution_count": 11,
     "metadata": {},
     "output_type": "execute_result"
    }
   ],
   "source": [
    "data"
   ]
  },
  {
   "cell_type": "code",
   "execution_count": 12,
   "id": "59f7c589",
   "metadata": {},
   "outputs": [
    {
     "data": {
      "text/plain": [
       "<pymongo.results.InsertManyResult at 0x16488d4a640>"
      ]
     },
     "execution_count": 12,
     "metadata": {},
     "output_type": "execute_result"
    }
   ],
   "source": [
    "# Insert Many\n",
    "Weekly_Demand_Collection.info.insert_many(data)"
   ]
  },
  {
   "cell_type": "code",
   "execution_count": 13,
   "id": "910bc9ab",
   "metadata": {},
   "outputs": [
    {
     "data": {
      "text/plain": [
       "<pymongo.results.InsertOneResult at 0x1648874ab00>"
      ]
     },
     "execution_count": 13,
     "metadata": {},
     "output_type": "execute_result"
    }
   ],
   "source": [
    "# insert single document into collection\n",
    "new={'meal_id':1010,'category':\"Seafood\",\"cuisine\":\"italian\"}\n",
    "Weekly_Demand_Collection.info.insert_one(new)"
   ]
  },
  {
   "cell_type": "code",
   "execution_count": 16,
   "id": "a172fe27",
   "metadata": {},
   "outputs": [],
   "source": [
    "#Finding a particular item\n",
    "Weekly_Demand_Collection.find_one({'meal_id':1847})"
   ]
  },
  {
   "cell_type": "code",
   "execution_count": 17,
   "id": "b8f5da83",
   "metadata": {},
   "outputs": [],
   "source": [
    "#limit\n",
    "for data in Weekly_Demand_Collection.find().limit(3):\n",
    "   print(data)"
   ]
  },
  {
   "cell_type": "code",
   "execution_count": 18,
   "id": "5811cb72",
   "metadata": {},
   "outputs": [
    {
     "data": {
      "text/plain": [
       "<pymongo.results.UpdateResult at 0x16488b85300>"
      ]
     },
     "execution_count": 18,
     "metadata": {},
     "output_type": "execute_result"
    }
   ],
   "source": [
    "#Updating one document\n",
    "Weekly_Demand_Collection.update_one({ 'meal_id': '1111' },{'$set':{ 'cuisine': 'Italian' }})"
   ]
  },
  {
   "cell_type": "code",
   "execution_count": 19,
   "id": "3f5778cd",
   "metadata": {},
   "outputs": [
    {
     "data": {
      "text/plain": [
       "<pymongo.results.UpdateResult at 0x16488d3e540>"
      ]
     },
     "execution_count": 19,
     "metadata": {},
     "output_type": "execute_result"
    }
   ],
   "source": [
    "#Updating many documents\n",
    "Weekly_Demand_Collection.update_many({},{\"$set\":{\"category\":\"PURE_VEG\"}})"
   ]
  },
  {
   "cell_type": "code",
   "execution_count": 20,
   "id": "3a5efc90",
   "metadata": {},
   "outputs": [
    {
     "data": {
      "text/plain": [
       "<pymongo.results.DeleteResult at 0x16488d410c0>"
      ]
     },
     "execution_count": 20,
     "metadata": {},
     "output_type": "execute_result"
    }
   ],
   "source": [
    "#Deleting one document\n",
    "Weekly_Demand_Collection.delete_one({\"meal_id\" : \"1445\"})"
   ]
  },
  {
   "cell_type": "code",
   "execution_count": 23,
   "id": "2300e383",
   "metadata": {},
   "outputs": [
    {
     "data": {
      "text/plain": [
       "<pymongo.results.DeleteResult at 0x164886cc800>"
      ]
     },
     "execution_count": 23,
     "metadata": {},
     "output_type": "execute_result"
    }
   ],
   "source": [
    "#Deleting many documents\n",
    "\n",
    "Weekly_Demand_Collection.delete_many({ \"cuisine\": {\"$regex\": \"^c\"}})"
   ]
  },
  {
   "cell_type": "code",
   "execution_count": null,
   "id": "2f48a706",
   "metadata": {},
   "outputs": [],
   "source": []
  }
 ],
 "metadata": {
  "kernelspec": {
   "display_name": "Python 3",
   "language": "python",
   "name": "python3"
  },
  "language_info": {
   "codemirror_mode": {
    "name": "ipython",
    "version": 3
   },
   "file_extension": ".py",
   "mimetype": "text/x-python",
   "name": "python",
   "nbconvert_exporter": "python",
   "pygments_lexer": "ipython3",
   "version": "3.8.8"
  }
 },
 "nbformat": 4,
 "nbformat_minor": 5
}
