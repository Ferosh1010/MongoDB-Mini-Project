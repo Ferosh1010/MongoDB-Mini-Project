{
 "cells": [
  {
   "cell_type": "code",
   "execution_count": 3,
   "id": "c8521b49",
   "metadata": {},
   "outputs": [],
   "source": [
    "# Importing neccesory libraries\n",
    "import pymongo\n",
    "import json\n",
    "import warnings\n",
    "warnings.filterwarnings('ignore')\n",
    "from pymongo import MongoClient"
   ]
  },
  {
   "cell_type": "code",
   "execution_count": 4,
   "id": "739671ab",
   "metadata": {},
   "outputs": [],
   "source": [
    "# creation of object MongoClient  \n",
    "client=MongoClient()"
   ]
  },
  {
   "cell_type": "code",
   "execution_count": 5,
   "id": "9cbf86d1",
   "metadata": {},
   "outputs": [],
   "source": [
    "# Connect with the portnumber and host  \n",
    "client = MongoClient('localhost',27017)"
   ]
  },
  {
   "cell_type": "code",
   "execution_count": 6,
   "id": "95b3b617",
   "metadata": {},
   "outputs": [],
   "source": [
    "# Access database \n",
    "Database = client['Project_0']"
   ]
  },
  {
   "cell_type": "code",
   "execution_count": 7,
   "id": "fd8deddd",
   "metadata": {},
   "outputs": [],
   "source": [
    "# Access collection of the database\n",
    "Weekly_Demand_Collection = Database.get_collection(\"meal_info\")\n"
   ]
  },
  {
   "cell_type": "code",
   "execution_count": 8,
   "id": "961bc842",
   "metadata": {},
   "outputs": [],
   "source": [
    "# Loading Json data in collections\n",
    "with open('E:\\\\projects\\\\meal_info.json') as file:\n",
    "    data = json.load(file)"
   ]
  },
  {
   "cell_type": "code",
   "execution_count": 9,
   "id": "ab2fb9eb",
   "metadata": {},
   "outputs": [
    {
     "data": {
      "text/plain": [
       "[{'meal_id': 1885, 'category': 'Beverages', 'cuisine': 'Thai'},\n",
       " {'meal_id': 1993, 'category': 'Beverages', 'cuisine': 'Thai'},\n",
       " {'meal_id': 2539, 'category': 'Beverages', 'cuisine': 'Thai'},\n",
       " {'meal_id': 1248, 'category': 'Beverages', 'cuisine': 'Indian'},\n",
       " {'meal_id': 2631, 'category': 'Beverages', 'cuisine': 'Indian'},\n",
       " {'meal_id': 1311, 'category': 'Extras', 'cuisine': 'Thai'},\n",
       " {'meal_id': 1062, 'category': 'Beverages', 'cuisine': 'Italian'},\n",
       " {'meal_id': 1778, 'category': 'Beverages', 'cuisine': 'Italian'},\n",
       " {'meal_id': 1803, 'category': 'Extras', 'cuisine': 'Thai'},\n",
       " {'meal_id': 1198, 'category': 'Extras', 'cuisine': 'Thai'},\n",
       " {'meal_id': 2707, 'category': 'Beverages', 'cuisine': 'Italian'},\n",
       " {'meal_id': 1847, 'category': 'Soup', 'cuisine': 'Thai'},\n",
       " {'meal_id': 1438, 'category': 'Soup', 'cuisine': 'Thai'},\n",
       " {'meal_id': 2494, 'category': 'Soup', 'cuisine': 'Thai'},\n",
       " {'meal_id': 2760, 'category': 'Other Snacks', 'cuisine': 'Thai'},\n",
       " {'meal_id': 2490, 'category': 'Salad', 'cuisine': 'Italian'},\n",
       " {'meal_id': 1109, 'category': 'Rice Bowl', 'cuisine': 'Indian'},\n",
       " {'meal_id': 2290, 'category': 'Rice Bowl', 'cuisine': 'Indian'},\n",
       " {'meal_id': 1525, 'category': 'Other Snacks', 'cuisine': 'Thai'},\n",
       " {'meal_id': 2704, 'category': 'Other Snacks', 'cuisine': 'Thai'},\n",
       " {'meal_id': 1878, 'category': 'Starters', 'cuisine': 'Thai'},\n",
       " {'meal_id': 2640, 'category': 'Starters', 'cuisine': 'Thai'},\n",
       " {'meal_id': 2577, 'category': 'Starters', 'cuisine': 'Thai'},\n",
       " {'meal_id': 1754, 'category': 'Sandwich', 'cuisine': 'Italian'},\n",
       " {'meal_id': 1971, 'category': 'Sandwich', 'cuisine': 'Italian'},\n",
       " {'meal_id': 2306, 'category': 'Pasta', 'cuisine': 'Italian'},\n",
       " {'meal_id': 2139, 'category': 'Beverages', 'cuisine': 'Indian'},\n",
       " {'meal_id': 2826, 'category': 'Sandwich', 'cuisine': 'Italian'},\n",
       " {'meal_id': 2664, 'category': 'Salad', 'cuisine': 'Italian'},\n",
       " {'meal_id': 2569, 'category': 'Salad', 'cuisine': 'Italian'},\n",
       " {'meal_id': 1230, 'category': 'Beverages', 'cuisine': 'Continental'},\n",
       " {'meal_id': 1207, 'category': 'Beverages', 'cuisine': 'Continental'},\n",
       " {'meal_id': 2322, 'category': 'Beverages', 'cuisine': 'Continental'},\n",
       " {'meal_id': 2492, 'category': 'Desert', 'cuisine': 'Indian'},\n",
       " {'meal_id': 1216, 'category': 'Pasta', 'cuisine': 'Italian'},\n",
       " {'meal_id': 1727, 'category': 'Rice Bowl', 'cuisine': 'Indian'},\n",
       " {'meal_id': 1902, 'category': 'Biryani', 'cuisine': 'Indian'},\n",
       " {'meal_id': 1247, 'category': 'Biryani', 'cuisine': 'Indian'},\n",
       " {'meal_id': 2304, 'category': 'Desert', 'cuisine': 'Indian'},\n",
       " {'meal_id': 1543, 'category': 'Desert', 'cuisine': 'Indian'},\n",
       " {'meal_id': 1770, 'category': 'Biryani', 'cuisine': 'Indian'},\n",
       " {'meal_id': 2126, 'category': 'Pasta', 'cuisine': 'Italian'},\n",
       " {'meal_id': 1558, 'category': 'Pizza', 'cuisine': 'Continental'},\n",
       " {'meal_id': 2581, 'category': 'Pizza', 'cuisine': 'Continental'},\n",
       " {'meal_id': 1962, 'category': 'Pizza', 'cuisine': 'Continental'},\n",
       " {'meal_id': 1571, 'category': 'Fish', 'cuisine': 'Continental'},\n",
       " {'meal_id': 2956, 'category': 'Fish', 'cuisine': 'Continental'},\n",
       " {'meal_id': 2104, 'category': 'Fish', 'cuisine': 'Continental'},\n",
       " {'meal_id': 2444, 'category': 'Seafood', 'cuisine': 'Continental'},\n",
       " {'meal_id': 2867, 'category': 'Seafood', 'cuisine': 'Continental'},\n",
       " {'meal_id': 1445, 'category': 'Seafood', 'cuisine': 'Continental'}]"
      ]
     },
     "execution_count": 9,
     "metadata": {},
     "output_type": "execute_result"
    }
   ],
   "source": [
    "data"
   ]
  },
  {
   "cell_type": "code",
   "execution_count": 10,
   "id": "7d48338c",
   "metadata": {},
   "outputs": [
    {
     "data": {
      "text/plain": [
       "<pymongo.results.InsertManyResult at 0x241b6ad6ec0>"
      ]
     },
     "execution_count": 10,
     "metadata": {},
     "output_type": "execute_result"
    }
   ],
   "source": [
    "# Insert Many\n",
    "Weekly_Demand_Collection.info.insert_many(data)"
   ]
  },
  {
   "cell_type": "code",
   "execution_count": 11,
   "id": "38b64254",
   "metadata": {},
   "outputs": [
    {
     "data": {
      "text/plain": [
       "<pymongo.results.InsertOneResult at 0x241b6af1340>"
      ]
     },
     "execution_count": 11,
     "metadata": {},
     "output_type": "execute_result"
    }
   ],
   "source": [
    "# insert single document into collection\n",
    "new={'meal_id':1010,'category':\"Seafood\",\"cuisine\":\"italian\"}\n",
    "Weekly_Demand_Collection.info.insert_one(new)"
   ]
  },
  {
   "cell_type": "code",
   "execution_count": 20,
   "id": "45025472",
   "metadata": {},
   "outputs": [
    {
     "data": {
      "text/plain": [
       "{'_id': ObjectId('60efcea197cd49f8853a9eab'),\n",
       " 'meal_id': 2867,\n",
       " 'category': 'Seafood',\n",
       " 'cuisine': 'Continental'}"
      ]
     },
     "execution_count": 20,
     "metadata": {},
     "output_type": "execute_result"
    }
   ],
   "source": [
    "#Finding a particular item\n",
    "Weekly_Demand_Collection.info.find_one({'meal_id':2867})"
   ]
  },
  {
   "cell_type": "code",
   "execution_count": 19,
   "id": "5eed7d05",
   "metadata": {},
   "outputs": [
    {
     "name": "stdout",
     "output_type": "stream",
     "text": [
      "{'_id': ObjectId('60efcea197cd49f8853a9e7a'), 'meal_id': 1885, 'category': 'Beverages', 'cuisine': 'Thai'}\n",
      "{'_id': ObjectId('60efcea197cd49f8853a9e7b'), 'meal_id': 1993, 'category': 'Beverages', 'cuisine': 'Thai'}\n",
      "{'_id': ObjectId('60efcea197cd49f8853a9e7c'), 'meal_id': 2539, 'category': 'Beverages', 'cuisine': 'Thai'}\n",
      "{'_id': ObjectId('60efcea197cd49f8853a9e7d'), 'meal_id': 1248, 'category': 'Beverages', 'cuisine': 'Indian'}\n",
      "{'_id': ObjectId('60efcea197cd49f8853a9e7e'), 'meal_id': 2631, 'category': 'Beverages', 'cuisine': 'Indian'}\n"
     ]
    }
   ],
   "source": [
    "#limit\n",
    "for data in Weekly_Demand_Collection.info.find().limit(5):\n",
    "   print(data)"
   ]
  },
  {
   "cell_type": "code",
   "execution_count": 15,
   "id": "6d414114",
   "metadata": {},
   "outputs": [
    {
     "data": {
      "text/plain": [
       "<pymongo.results.UpdateResult at 0x241b6af8f80>"
      ]
     },
     "execution_count": 15,
     "metadata": {},
     "output_type": "execute_result"
    }
   ],
   "source": [
    "#Updating one document\n",
    "Weekly_Demand_Collection.update_one({ 'meal_id': '1111' },{'$set':{ 'cuisine': 'Italian' }})"
   ]
  },
  {
   "cell_type": "code",
   "execution_count": 16,
   "id": "0e88900b",
   "metadata": {},
   "outputs": [
    {
     "data": {
      "text/plain": [
       "<pymongo.results.UpdateResult at 0x241b6af8dc0>"
      ]
     },
     "execution_count": 16,
     "metadata": {},
     "output_type": "execute_result"
    }
   ],
   "source": [
    "#Updating many documents\n",
    "Weekly_Demand_Collection.update_many({},{\"$set\":{\"category\":\"PURE_VEG\"}})"
   ]
  },
  {
   "cell_type": "code",
   "execution_count": 17,
   "id": "87f04de5",
   "metadata": {},
   "outputs": [
    {
     "data": {
      "text/plain": [
       "<pymongo.results.DeleteResult at 0x241b6af1480>"
      ]
     },
     "execution_count": 17,
     "metadata": {},
     "output_type": "execute_result"
    }
   ],
   "source": [
    "#Deleting one document\n",
    "Weekly_Demand_Collection.delete_one({\"meal_id\" : \"1445\"})"
   ]
  },
  {
   "cell_type": "code",
   "execution_count": 18,
   "id": "4ca095dd",
   "metadata": {},
   "outputs": [
    {
     "data": {
      "text/plain": [
       "<pymongo.results.DeleteResult at 0x241b6afd600>"
      ]
     },
     "execution_count": 18,
     "metadata": {},
     "output_type": "execute_result"
    }
   ],
   "source": [
    "#Deleting many documents\n",
    "\n",
    "Weekly_Demand_Collection.delete_many({ \"cuisine\": {\"$regex\": \"^c\"}})"
   ]
  },
  {
   "cell_type": "code",
   "execution_count": null,
   "id": "33ec4f6f",
   "metadata": {},
   "outputs": [],
   "source": []
  }
 ],
 "metadata": {
  "kernelspec": {
   "display_name": "Python 3",
   "language": "python",
   "name": "python3"
  },
  "language_info": {
   "codemirror_mode": {
    "name": "ipython",
    "version": 3
   },
   "file_extension": ".py",
   "mimetype": "text/x-python",
   "name": "python",
   "nbconvert_exporter": "python",
   "pygments_lexer": "ipython3",
   "version": "3.8.8"
  }
 },
 "nbformat": 4,
 "nbformat_minor": 5
}
